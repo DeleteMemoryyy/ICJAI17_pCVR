{
 "cells": [
  {
   "cell_type": "code",
   "execution_count": 3,
   "metadata": {
    "collapsed": true,
    "pycharm": {
     "is_executing": false
    }
   },
   "outputs": [],
   "source": [
    "import warnings\n",
    "warnings.filterwarnings('ignore')\n",
    "\n",
    "from src.dataloader import Dataloader\n",
    "\n",
    "data_loader = Dataloader()\n",
    "data_loader.load_file()\n",
    "data = data_loader.data"
   ]
  },
  {
   "cell_type": "code",
   "execution_count": 2,
   "outputs": [],
   "source": [
    "data_loader.pipeline()\n",
    "data = data_loader.data"
   ],
   "metadata": {
    "collapsed": false,
    "pycharm": {
     "name": "#%%\n",
     "is_executing": false
    }
   }
  },
  {
   "cell_type": "code",
   "execution_count": 5,
   "outputs": [
    {
     "data": {
      "text/plain": "   instance_id   item_id                       item_category_list  \\\n0   1515858548  45360997  7908382889764677758;5799347067982556520   \n1   1127901801  45360997  7908382889764677758;5799347067982556520   \n2     98363605  45360997  7908382889764677758;5799347067982556520   \n3    516021027  45360997  7908382889764677758;5799347067982556520   \n4   1015123496  45360997  7908382889764677758;5799347067982556520   \n\n                                  item_property_list  item_brand_id  \\\n0  2072967855524022579;5131280576272319091;263639...      934315942   \n1  2072967855524022579;5131280576272319091;263639...      934315942   \n2  2072967855524022579;5131280576272319091;263639...      934315942   \n3  2072967855524022579;5131280576272319091;263639...      934315942   \n4  2072967855524022579;5131280576272319091;263639...      934315942   \n\n   item_city_id  item_price_level  item_sales_level  item_collected_level  \\\n0    1133625995                 3                 3                     4   \n1    1133625995                 3                 3                     4   \n2    1133625995                 3                 3                     4   \n3    1133625995                 3                 3                     4   \n4    1133625995                 3                 3                     4   \n\n   item_pv_level  ...  shop_review_num_level  shop_review_positive_rate  \\\n0             14  ...                      4                        1.0   \n1             14  ...                      4                        1.0   \n2             14  ...                      4                        1.0   \n3             14  ...                      4                        1.0   \n4             14  ...                      4                        1.0   \n\n   shop_star_level  shop_score_service  shop_score_delivery  \\\n0             5002                 1.0                  1.0   \n1             5002                 1.0                  1.0   \n2             5002                 1.0                  1.0   \n3             5002                 1.0                  1.0   \n4             5002                 1.0                  1.0   \n\n   shop_score_description  is_trade            realtime day  hour  \n0                     1.0         0 2018-09-18 10:09:04  18    10  \n1                     1.0         0 2018-09-18 12:00:32  18    12  \n2                     1.0         0 2018-09-18 03:04:12  18     3  \n3                     1.0         0 2018-09-18 06:17:50  18     6  \n4                     1.0         0 2018-09-18 19:48:40  18    19  \n\n[5 rows x 30 columns]",
      "text/html": "<div>\n<style scoped>\n    .dataframe tbody tr th:only-of-type {\n        vertical-align: middle;\n    }\n\n    .dataframe tbody tr th {\n        vertical-align: top;\n    }\n\n    .dataframe thead th {\n        text-align: right;\n    }\n</style>\n<table border=\"1\" class=\"dataframe\">\n  <thead>\n    <tr style=\"text-align: right;\">\n      <th></th>\n      <th>instance_id</th>\n      <th>item_id</th>\n      <th>item_category_list</th>\n      <th>item_property_list</th>\n      <th>item_brand_id</th>\n      <th>item_city_id</th>\n      <th>item_price_level</th>\n      <th>item_sales_level</th>\n      <th>item_collected_level</th>\n      <th>item_pv_level</th>\n      <th>...</th>\n      <th>shop_review_num_level</th>\n      <th>shop_review_positive_rate</th>\n      <th>shop_star_level</th>\n      <th>shop_score_service</th>\n      <th>shop_score_delivery</th>\n      <th>shop_score_description</th>\n      <th>is_trade</th>\n      <th>realtime</th>\n      <th>day</th>\n      <th>hour</th>\n    </tr>\n  </thead>\n  <tbody>\n    <tr>\n      <th>0</th>\n      <td>1515858548</td>\n      <td>45360997</td>\n      <td>7908382889764677758;5799347067982556520</td>\n      <td>2072967855524022579;5131280576272319091;263639...</td>\n      <td>934315942</td>\n      <td>1133625995</td>\n      <td>3</td>\n      <td>3</td>\n      <td>4</td>\n      <td>14</td>\n      <td>...</td>\n      <td>4</td>\n      <td>1.0</td>\n      <td>5002</td>\n      <td>1.0</td>\n      <td>1.0</td>\n      <td>1.0</td>\n      <td>0</td>\n      <td>2018-09-18 10:09:04</td>\n      <td>18</td>\n      <td>10</td>\n    </tr>\n    <tr>\n      <th>1</th>\n      <td>1127901801</td>\n      <td>45360997</td>\n      <td>7908382889764677758;5799347067982556520</td>\n      <td>2072967855524022579;5131280576272319091;263639...</td>\n      <td>934315942</td>\n      <td>1133625995</td>\n      <td>3</td>\n      <td>3</td>\n      <td>4</td>\n      <td>14</td>\n      <td>...</td>\n      <td>4</td>\n      <td>1.0</td>\n      <td>5002</td>\n      <td>1.0</td>\n      <td>1.0</td>\n      <td>1.0</td>\n      <td>0</td>\n      <td>2018-09-18 12:00:32</td>\n      <td>18</td>\n      <td>12</td>\n    </tr>\n    <tr>\n      <th>2</th>\n      <td>98363605</td>\n      <td>45360997</td>\n      <td>7908382889764677758;5799347067982556520</td>\n      <td>2072967855524022579;5131280576272319091;263639...</td>\n      <td>934315942</td>\n      <td>1133625995</td>\n      <td>3</td>\n      <td>3</td>\n      <td>4</td>\n      <td>14</td>\n      <td>...</td>\n      <td>4</td>\n      <td>1.0</td>\n      <td>5002</td>\n      <td>1.0</td>\n      <td>1.0</td>\n      <td>1.0</td>\n      <td>0</td>\n      <td>2018-09-18 03:04:12</td>\n      <td>18</td>\n      <td>3</td>\n    </tr>\n    <tr>\n      <th>3</th>\n      <td>516021027</td>\n      <td>45360997</td>\n      <td>7908382889764677758;5799347067982556520</td>\n      <td>2072967855524022579;5131280576272319091;263639...</td>\n      <td>934315942</td>\n      <td>1133625995</td>\n      <td>3</td>\n      <td>3</td>\n      <td>4</td>\n      <td>14</td>\n      <td>...</td>\n      <td>4</td>\n      <td>1.0</td>\n      <td>5002</td>\n      <td>1.0</td>\n      <td>1.0</td>\n      <td>1.0</td>\n      <td>0</td>\n      <td>2018-09-18 06:17:50</td>\n      <td>18</td>\n      <td>6</td>\n    </tr>\n    <tr>\n      <th>4</th>\n      <td>1015123496</td>\n      <td>45360997</td>\n      <td>7908382889764677758;5799347067982556520</td>\n      <td>2072967855524022579;5131280576272319091;263639...</td>\n      <td>934315942</td>\n      <td>1133625995</td>\n      <td>3</td>\n      <td>3</td>\n      <td>4</td>\n      <td>14</td>\n      <td>...</td>\n      <td>4</td>\n      <td>1.0</td>\n      <td>5002</td>\n      <td>1.0</td>\n      <td>1.0</td>\n      <td>1.0</td>\n      <td>0</td>\n      <td>2018-09-18 19:48:40</td>\n      <td>18</td>\n      <td>19</td>\n    </tr>\n  </tbody>\n</table>\n<p>5 rows × 30 columns</p>\n</div>"
     },
     "metadata": {},
     "output_type": "execute_result",
     "execution_count": 5
    }
   ],
   "source": [
    "data.head()\n"
   ],
   "metadata": {
    "collapsed": false,
    "pycharm": {
     "name": "#%%\n",
     "is_executing": false
    }
   }
  }
 ],
 "metadata": {
  "kernelspec": {
   "name": "pycharm-873f97e",
   "language": "python",
   "display_name": "PyCharm (CTR)"
  },
  "language_info": {
   "codemirror_mode": {
    "name": "ipython",
    "version": 2
   },
   "file_extension": ".py",
   "mimetype": "text/x-python",
   "name": "python",
   "nbconvert_exporter": "python",
   "pygments_lexer": "ipython2",
   "version": "2.7.6"
  },
  "pycharm": {
   "stem_cell": {
    "cell_type": "raw",
    "source": [],
    "metadata": {
     "collapsed": false
    }
   }
  }
 },
 "nbformat": 4,
 "nbformat_minor": 0
}